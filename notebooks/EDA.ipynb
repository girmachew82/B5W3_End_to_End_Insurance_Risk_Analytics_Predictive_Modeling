{
 "cells": [
  {
   "cell_type": "markdown",
   "id": "93a84033",
   "metadata": {},
   "source": [
    "# B5W3: End-to-End Insurance Risk Analytics & Predictive Modeling"
   ]
  },
  {
   "cell_type": "code",
   "execution_count": 21,
   "id": "18dc89b4",
   "metadata": {},
   "outputs": [],
   "source": [
    "import os\n",
    "import sys\n",
    "import pandas as pd\n",
    "import matplotlib.pyplot as plt\n",
    "import seaborn as sns\n",
    "import numpy as np # Used for checking for division by zero\n",
    "sns.set_style('whitegrid')"
   ]
  },
  {
   "cell_type": "code",
   "execution_count": 16,
   "id": "4663c1e1",
   "metadata": {},
   "outputs": [],
   "source": [
    "sys.path.append(os.path.abspath(os.path.join('..')))"
   ]
  },
  {
   "cell_type": "code",
   "execution_count": 17,
   "id": "015ddb9f",
   "metadata": {},
   "outputs": [],
   "source": [
    "df  = pd.read_csv('../data/MachineLearningRating_v3.csv', low_memory=False )"
   ]
  },
  {
   "cell_type": "code",
   "execution_count": 4,
   "id": "17216f7d",
   "metadata": {},
   "outputs": [
    {
     "data": {
      "text/html": [
       "<div>\n",
       "<style scoped>\n",
       "    .dataframe tbody tr th:only-of-type {\n",
       "        vertical-align: middle;\n",
       "    }\n",
       "\n",
       "    .dataframe tbody tr th {\n",
       "        vertical-align: top;\n",
       "    }\n",
       "\n",
       "    .dataframe thead th {\n",
       "        text-align: right;\n",
       "    }\n",
       "</style>\n",
       "<table border=\"1\" class=\"dataframe\">\n",
       "  <thead>\n",
       "    <tr style=\"text-align: right;\">\n",
       "      <th></th>\n",
       "      <th>UnderwrittenCoverID</th>\n",
       "      <th>PolicyID</th>\n",
       "      <th>TransactionMonth</th>\n",
       "      <th>IsVATRegistered</th>\n",
       "      <th>Citizenship</th>\n",
       "      <th>LegalType</th>\n",
       "      <th>Title</th>\n",
       "      <th>Language</th>\n",
       "      <th>Bank</th>\n",
       "      <th>AccountType</th>\n",
       "      <th>...</th>\n",
       "      <th>ExcessSelected</th>\n",
       "      <th>CoverCategory</th>\n",
       "      <th>CoverType</th>\n",
       "      <th>CoverGroup</th>\n",
       "      <th>Section</th>\n",
       "      <th>Product</th>\n",
       "      <th>StatutoryClass</th>\n",
       "      <th>StatutoryRiskType</th>\n",
       "      <th>TotalPremium</th>\n",
       "      <th>TotalClaims</th>\n",
       "    </tr>\n",
       "  </thead>\n",
       "  <tbody>\n",
       "    <tr>\n",
       "      <th>0</th>\n",
       "      <td>145249</td>\n",
       "      <td>12827</td>\n",
       "      <td>2015-03-01 00:00:00</td>\n",
       "      <td>True</td>\n",
       "      <td></td>\n",
       "      <td>Close Corporation</td>\n",
       "      <td>Mr</td>\n",
       "      <td>English</td>\n",
       "      <td>First National Bank</td>\n",
       "      <td>Current account</td>\n",
       "      <td>...</td>\n",
       "      <td>Mobility - Windscreen</td>\n",
       "      <td>Windscreen</td>\n",
       "      <td>Windscreen</td>\n",
       "      <td>Comprehensive - Taxi</td>\n",
       "      <td>Motor Comprehensive</td>\n",
       "      <td>Mobility Metered Taxis: Monthly</td>\n",
       "      <td>Commercial</td>\n",
       "      <td>IFRS Constant</td>\n",
       "      <td>21.929825</td>\n",
       "      <td>0.0</td>\n",
       "    </tr>\n",
       "    <tr>\n",
       "      <th>1</th>\n",
       "      <td>145249</td>\n",
       "      <td>12827</td>\n",
       "      <td>2015-05-01 00:00:00</td>\n",
       "      <td>True</td>\n",
       "      <td></td>\n",
       "      <td>Close Corporation</td>\n",
       "      <td>Mr</td>\n",
       "      <td>English</td>\n",
       "      <td>First National Bank</td>\n",
       "      <td>Current account</td>\n",
       "      <td>...</td>\n",
       "      <td>Mobility - Windscreen</td>\n",
       "      <td>Windscreen</td>\n",
       "      <td>Windscreen</td>\n",
       "      <td>Comprehensive - Taxi</td>\n",
       "      <td>Motor Comprehensive</td>\n",
       "      <td>Mobility Metered Taxis: Monthly</td>\n",
       "      <td>Commercial</td>\n",
       "      <td>IFRS Constant</td>\n",
       "      <td>21.929825</td>\n",
       "      <td>0.0</td>\n",
       "    </tr>\n",
       "    <tr>\n",
       "      <th>2</th>\n",
       "      <td>145249</td>\n",
       "      <td>12827</td>\n",
       "      <td>2015-07-01 00:00:00</td>\n",
       "      <td>True</td>\n",
       "      <td></td>\n",
       "      <td>Close Corporation</td>\n",
       "      <td>Mr</td>\n",
       "      <td>English</td>\n",
       "      <td>First National Bank</td>\n",
       "      <td>Current account</td>\n",
       "      <td>...</td>\n",
       "      <td>Mobility - Windscreen</td>\n",
       "      <td>Windscreen</td>\n",
       "      <td>Windscreen</td>\n",
       "      <td>Comprehensive - Taxi</td>\n",
       "      <td>Motor Comprehensive</td>\n",
       "      <td>Mobility Metered Taxis: Monthly</td>\n",
       "      <td>Commercial</td>\n",
       "      <td>IFRS Constant</td>\n",
       "      <td>0.000000</td>\n",
       "      <td>0.0</td>\n",
       "    </tr>\n",
       "    <tr>\n",
       "      <th>3</th>\n",
       "      <td>145255</td>\n",
       "      <td>12827</td>\n",
       "      <td>2015-05-01 00:00:00</td>\n",
       "      <td>True</td>\n",
       "      <td></td>\n",
       "      <td>Close Corporation</td>\n",
       "      <td>Mr</td>\n",
       "      <td>English</td>\n",
       "      <td>First National Bank</td>\n",
       "      <td>Current account</td>\n",
       "      <td>...</td>\n",
       "      <td>Mobility - Metered Taxis - R2000</td>\n",
       "      <td>Own damage</td>\n",
       "      <td>Own Damage</td>\n",
       "      <td>Comprehensive - Taxi</td>\n",
       "      <td>Motor Comprehensive</td>\n",
       "      <td>Mobility Metered Taxis: Monthly</td>\n",
       "      <td>Commercial</td>\n",
       "      <td>IFRS Constant</td>\n",
       "      <td>512.848070</td>\n",
       "      <td>0.0</td>\n",
       "    </tr>\n",
       "    <tr>\n",
       "      <th>4</th>\n",
       "      <td>145255</td>\n",
       "      <td>12827</td>\n",
       "      <td>2015-07-01 00:00:00</td>\n",
       "      <td>True</td>\n",
       "      <td></td>\n",
       "      <td>Close Corporation</td>\n",
       "      <td>Mr</td>\n",
       "      <td>English</td>\n",
       "      <td>First National Bank</td>\n",
       "      <td>Current account</td>\n",
       "      <td>...</td>\n",
       "      <td>Mobility - Metered Taxis - R2000</td>\n",
       "      <td>Own damage</td>\n",
       "      <td>Own Damage</td>\n",
       "      <td>Comprehensive - Taxi</td>\n",
       "      <td>Motor Comprehensive</td>\n",
       "      <td>Mobility Metered Taxis: Monthly</td>\n",
       "      <td>Commercial</td>\n",
       "      <td>IFRS Constant</td>\n",
       "      <td>0.000000</td>\n",
       "      <td>0.0</td>\n",
       "    </tr>\n",
       "  </tbody>\n",
       "</table>\n",
       "<p>5 rows × 52 columns</p>\n",
       "</div>"
      ],
      "text/plain": [
       "   UnderwrittenCoverID  PolicyID     TransactionMonth  IsVATRegistered  \\\n",
       "0               145249     12827  2015-03-01 00:00:00             True   \n",
       "1               145249     12827  2015-05-01 00:00:00             True   \n",
       "2               145249     12827  2015-07-01 00:00:00             True   \n",
       "3               145255     12827  2015-05-01 00:00:00             True   \n",
       "4               145255     12827  2015-07-01 00:00:00             True   \n",
       "\n",
       "  Citizenship          LegalType Title Language                 Bank  \\\n",
       "0              Close Corporation    Mr  English  First National Bank   \n",
       "1              Close Corporation    Mr  English  First National Bank   \n",
       "2              Close Corporation    Mr  English  First National Bank   \n",
       "3              Close Corporation    Mr  English  First National Bank   \n",
       "4              Close Corporation    Mr  English  First National Bank   \n",
       "\n",
       "       AccountType  ...                    ExcessSelected CoverCategory  \\\n",
       "0  Current account  ...             Mobility - Windscreen    Windscreen   \n",
       "1  Current account  ...             Mobility - Windscreen    Windscreen   \n",
       "2  Current account  ...             Mobility - Windscreen    Windscreen   \n",
       "3  Current account  ...  Mobility - Metered Taxis - R2000    Own damage   \n",
       "4  Current account  ...  Mobility - Metered Taxis - R2000    Own damage   \n",
       "\n",
       "    CoverType            CoverGroup              Section  \\\n",
       "0  Windscreen  Comprehensive - Taxi  Motor Comprehensive   \n",
       "1  Windscreen  Comprehensive - Taxi  Motor Comprehensive   \n",
       "2  Windscreen  Comprehensive - Taxi  Motor Comprehensive   \n",
       "3  Own Damage  Comprehensive - Taxi  Motor Comprehensive   \n",
       "4  Own Damage  Comprehensive - Taxi  Motor Comprehensive   \n",
       "\n",
       "                           Product StatutoryClass StatutoryRiskType  \\\n",
       "0  Mobility Metered Taxis: Monthly     Commercial     IFRS Constant   \n",
       "1  Mobility Metered Taxis: Monthly     Commercial     IFRS Constant   \n",
       "2  Mobility Metered Taxis: Monthly     Commercial     IFRS Constant   \n",
       "3  Mobility Metered Taxis: Monthly     Commercial     IFRS Constant   \n",
       "4  Mobility Metered Taxis: Monthly     Commercial     IFRS Constant   \n",
       "\n",
       "   TotalPremium TotalClaims  \n",
       "0     21.929825         0.0  \n",
       "1     21.929825         0.0  \n",
       "2      0.000000         0.0  \n",
       "3    512.848070         0.0  \n",
       "4      0.000000         0.0  \n",
       "\n",
       "[5 rows x 52 columns]"
      ]
     },
     "execution_count": 4,
     "metadata": {},
     "output_type": "execute_result"
    }
   ],
   "source": [
    "df.head()"
   ]
  },
  {
   "cell_type": "code",
   "execution_count": 5,
   "id": "2ffb6732",
   "metadata": {},
   "outputs": [
    {
     "data": {
      "text/plain": [
       "['UnderwrittenCoverID',\n",
       " 'PolicyID',\n",
       " 'TransactionMonth',\n",
       " 'IsVATRegistered',\n",
       " 'Citizenship',\n",
       " 'LegalType',\n",
       " 'Title',\n",
       " 'Language',\n",
       " 'Bank',\n",
       " 'AccountType',\n",
       " 'MaritalStatus',\n",
       " 'Gender',\n",
       " 'Country',\n",
       " 'Province',\n",
       " 'PostalCode',\n",
       " 'MainCrestaZone',\n",
       " 'SubCrestaZone',\n",
       " 'ItemType',\n",
       " 'mmcode',\n",
       " 'VehicleType',\n",
       " 'RegistrationYear',\n",
       " 'make',\n",
       " 'Model',\n",
       " 'Cylinders',\n",
       " 'cubiccapacity',\n",
       " 'kilowatts',\n",
       " 'bodytype',\n",
       " 'NumberOfDoors',\n",
       " 'VehicleIntroDate',\n",
       " 'CustomValueEstimate',\n",
       " 'AlarmImmobiliser',\n",
       " 'TrackingDevice',\n",
       " 'CapitalOutstanding',\n",
       " 'NewVehicle',\n",
       " 'WrittenOff',\n",
       " 'Rebuilt',\n",
       " 'Converted',\n",
       " 'CrossBorder',\n",
       " 'NumberOfVehiclesInFleet',\n",
       " 'SumInsured',\n",
       " 'TermFrequency',\n",
       " 'CalculatedPremiumPerTerm',\n",
       " 'ExcessSelected',\n",
       " 'CoverCategory',\n",
       " 'CoverType',\n",
       " 'CoverGroup',\n",
       " 'Section',\n",
       " 'Product',\n",
       " 'StatutoryClass',\n",
       " 'StatutoryRiskType',\n",
       " 'TotalPremium',\n",
       " 'TotalClaims']"
      ]
     },
     "execution_count": 5,
     "metadata": {},
     "output_type": "execute_result"
    }
   ],
   "source": [
    "df.columns.tolist()"
   ]
  },
  {
   "cell_type": "code",
   "execution_count": 6,
   "id": "11bab26d",
   "metadata": {},
   "outputs": [
    {
     "data": {
      "text/plain": [
       "UnderwrittenCoverID           int64\n",
       "PolicyID                      int64\n",
       "TransactionMonth             object\n",
       "IsVATRegistered                bool\n",
       "Citizenship                  object\n",
       "LegalType                    object\n",
       "Title                        object\n",
       "Language                     object\n",
       "Bank                         object\n",
       "AccountType                  object\n",
       "MaritalStatus                object\n",
       "Gender                       object\n",
       "Country                      object\n",
       "Province                     object\n",
       "PostalCode                    int64\n",
       "MainCrestaZone               object\n",
       "SubCrestaZone                object\n",
       "ItemType                     object\n",
       "mmcode                      float64\n",
       "VehicleType                  object\n",
       "RegistrationYear              int64\n",
       "make                         object\n",
       "Model                        object\n",
       "Cylinders                   float64\n",
       "cubiccapacity               float64\n",
       "kilowatts                   float64\n",
       "bodytype                     object\n",
       "NumberOfDoors               float64\n",
       "VehicleIntroDate             object\n",
       "CustomValueEstimate         float64\n",
       "AlarmImmobiliser             object\n",
       "TrackingDevice               object\n",
       "CapitalOutstanding           object\n",
       "NewVehicle                   object\n",
       "WrittenOff                   object\n",
       "Rebuilt                      object\n",
       "Converted                    object\n",
       "CrossBorder                  object\n",
       "NumberOfVehiclesInFleet     float64\n",
       "SumInsured                  float64\n",
       "TermFrequency                object\n",
       "CalculatedPremiumPerTerm    float64\n",
       "ExcessSelected               object\n",
       "CoverCategory                object\n",
       "CoverType                    object\n",
       "CoverGroup                   object\n",
       "Section                      object\n",
       "Product                      object\n",
       "StatutoryClass               object\n",
       "StatutoryRiskType            object\n",
       "TotalPremium                float64\n",
       "TotalClaims                 float64\n",
       "dtype: object"
      ]
     },
     "execution_count": 6,
     "metadata": {},
     "output_type": "execute_result"
    }
   ],
   "source": [
    "df.dtypes"
   ]
  },
  {
   "cell_type": "code",
   "execution_count": 7,
   "id": "08b94092",
   "metadata": {},
   "outputs": [
    {
     "data": {
      "text/plain": [
       "(1000098, 52)"
      ]
     },
     "execution_count": 7,
     "metadata": {},
     "output_type": "execute_result"
    }
   ],
   "source": [
    "df.shape"
   ]
  },
  {
   "cell_type": "code",
   "execution_count": 8,
   "id": "92bceafd",
   "metadata": {},
   "outputs": [
    {
     "name": "stdout",
     "output_type": "stream",
     "text": [
      "<class 'pandas.core.frame.DataFrame'>\n",
      "RangeIndex: 1000098 entries, 0 to 1000097\n",
      "Data columns (total 52 columns):\n",
      " #   Column                    Non-Null Count    Dtype  \n",
      "---  ------                    --------------    -----  \n",
      " 0   UnderwrittenCoverID       1000098 non-null  int64  \n",
      " 1   PolicyID                  1000098 non-null  int64  \n",
      " 2   TransactionMonth          1000098 non-null  object \n",
      " 3   IsVATRegistered           1000098 non-null  bool   \n",
      " 4   Citizenship               1000098 non-null  object \n",
      " 5   LegalType                 1000098 non-null  object \n",
      " 6   Title                     1000098 non-null  object \n",
      " 7   Language                  1000098 non-null  object \n",
      " 8   Bank                      854137 non-null   object \n",
      " 9   AccountType               959866 non-null   object \n",
      " 10  MaritalStatus             991839 non-null   object \n",
      " 11  Gender                    990562 non-null   object \n",
      " 12  Country                   1000098 non-null  object \n",
      " 13  Province                  1000098 non-null  object \n",
      " 14  PostalCode                1000098 non-null  int64  \n",
      " 15  MainCrestaZone            1000098 non-null  object \n",
      " 16  SubCrestaZone             1000098 non-null  object \n",
      " 17  ItemType                  1000098 non-null  object \n",
      " 18  mmcode                    999546 non-null   float64\n",
      " 19  VehicleType               999546 non-null   object \n",
      " 20  RegistrationYear          1000098 non-null  int64  \n",
      " 21  make                      999546 non-null   object \n",
      " 22  Model                     999546 non-null   object \n",
      " 23  Cylinders                 999546 non-null   float64\n",
      " 24  cubiccapacity             999546 non-null   float64\n",
      " 25  kilowatts                 999546 non-null   float64\n",
      " 26  bodytype                  999546 non-null   object \n",
      " 27  NumberOfDoors             999546 non-null   float64\n",
      " 28  VehicleIntroDate          999546 non-null   object \n",
      " 29  CustomValueEstimate       220456 non-null   float64\n",
      " 30  AlarmImmobiliser          1000098 non-null  object \n",
      " 31  TrackingDevice            1000098 non-null  object \n",
      " 32  CapitalOutstanding        1000096 non-null  object \n",
      " 33  NewVehicle                846803 non-null   object \n",
      " 34  WrittenOff                358197 non-null   object \n",
      " 35  Rebuilt                   358197 non-null   object \n",
      " 36  Converted                 358197 non-null   object \n",
      " 37  CrossBorder               698 non-null      object \n",
      " 38  NumberOfVehiclesInFleet   0 non-null        float64\n",
      " 39  SumInsured                1000098 non-null  float64\n",
      " 40  TermFrequency             1000098 non-null  object \n",
      " 41  CalculatedPremiumPerTerm  1000098 non-null  float64\n",
      " 42  ExcessSelected            1000098 non-null  object \n",
      " 43  CoverCategory             1000098 non-null  object \n",
      " 44  CoverType                 1000098 non-null  object \n",
      " 45  CoverGroup                1000098 non-null  object \n",
      " 46  Section                   1000098 non-null  object \n",
      " 47  Product                   1000098 non-null  object \n",
      " 48  StatutoryClass            1000098 non-null  object \n",
      " 49  StatutoryRiskType         1000098 non-null  object \n",
      " 50  TotalPremium              1000098 non-null  float64\n",
      " 51  TotalClaims               1000098 non-null  float64\n",
      "dtypes: bool(1), float64(11), int64(4), object(36)\n",
      "memory usage: 390.1+ MB\n"
     ]
    }
   ],
   "source": [
    "df.info()"
   ]
  },
  {
   "cell_type": "code",
   "execution_count": 9,
   "id": "399f9133",
   "metadata": {},
   "outputs": [
    {
     "data": {
      "text/plain": [
       "UnderwrittenCoverID               0\n",
       "PolicyID                          0\n",
       "TransactionMonth                  0\n",
       "IsVATRegistered                   0\n",
       "Citizenship                       0\n",
       "LegalType                         0\n",
       "Title                             0\n",
       "Language                          0\n",
       "Bank                         145961\n",
       "AccountType                   40232\n",
       "MaritalStatus                  8259\n",
       "Gender                         9536\n",
       "Country                           0\n",
       "Province                          0\n",
       "PostalCode                        0\n",
       "MainCrestaZone                    0\n",
       "SubCrestaZone                     0\n",
       "ItemType                          0\n",
       "mmcode                          552\n",
       "VehicleType                     552\n",
       "RegistrationYear                  0\n",
       "make                            552\n",
       "Model                           552\n",
       "Cylinders                       552\n",
       "cubiccapacity                   552\n",
       "kilowatts                       552\n",
       "bodytype                        552\n",
       "NumberOfDoors                   552\n",
       "VehicleIntroDate                552\n",
       "CustomValueEstimate          779642\n",
       "AlarmImmobiliser                  0\n",
       "TrackingDevice                    0\n",
       "CapitalOutstanding                2\n",
       "NewVehicle                   153295\n",
       "WrittenOff                   641901\n",
       "Rebuilt                      641901\n",
       "Converted                    641901\n",
       "CrossBorder                  999400\n",
       "NumberOfVehiclesInFleet     1000098\n",
       "SumInsured                        0\n",
       "TermFrequency                     0\n",
       "CalculatedPremiumPerTerm          0\n",
       "ExcessSelected                    0\n",
       "CoverCategory                     0\n",
       "CoverType                         0\n",
       "CoverGroup                        0\n",
       "Section                           0\n",
       "Product                           0\n",
       "StatutoryClass                    0\n",
       "StatutoryRiskType                 0\n",
       "TotalPremium                      0\n",
       "TotalClaims                       0\n",
       "dtype: int64"
      ]
     },
     "execution_count": 9,
     "metadata": {},
     "output_type": "execute_result"
    }
   ],
   "source": [
    "df.isnull().sum()"
   ]
  },
  {
   "cell_type": "code",
   "execution_count": 10,
   "id": "d4d9b1ee",
   "metadata": {},
   "outputs": [
    {
     "name": "stdout",
     "output_type": "stream",
     "text": [
      "\n",
      "Number of duplicate rows: 0\n"
     ]
    }
   ],
   "source": [
    "print(f\"\\nNumber of duplicate rows: {df.duplicated().sum()}\")"
   ]
  },
  {
   "cell_type": "code",
   "execution_count": 11,
   "id": "7e4cc554",
   "metadata": {},
   "outputs": [
    {
     "name": "stdout",
     "output_type": "stream",
     "text": [
      "                              count          mean           std           min  \\\n",
      "UnderwrittenCoverID       1000098.0  1.048175e+05  6.329371e+04  1.000000e+00   \n",
      "PolicyID                  1000098.0  7.956682e+03  5.290039e+03  1.400000e+01   \n",
      "PostalCode                1000098.0  3.020601e+03  2.649854e+03  1.000000e+00   \n",
      "mmcode                     999546.0  5.487770e+07  1.360381e+07  4.041200e+06   \n",
      "RegistrationYear          1000098.0  2.010225e+03  3.261391e+00  1.987000e+03   \n",
      "Cylinders                  999546.0  4.046642e+00  2.940201e-01  0.000000e+00   \n",
      "cubiccapacity              999546.0  2.466743e+03  4.428006e+02  0.000000e+00   \n",
      "kilowatts                  999546.0  9.720792e+01  1.939326e+01  0.000000e+00   \n",
      "NumberOfDoors              999546.0  4.019250e+00  4.683144e-01  0.000000e+00   \n",
      "CustomValueEstimate        220456.0  2.255311e+05  5.645157e+05  2.000000e+04   \n",
      "NumberOfVehiclesInFleet         0.0           NaN           NaN           NaN   \n",
      "SumInsured                1000098.0  6.041727e+05  1.508332e+06  1.000000e-02   \n",
      "CalculatedPremiumPerTerm  1000098.0  1.178757e+02  3.997017e+02  0.000000e+00   \n",
      "TotalPremium              1000098.0  6.190550e+01  2.302845e+02 -7.825768e+02   \n",
      "TotalClaims               1000098.0  6.486119e+01  2.384075e+03 -1.200241e+04   \n",
      "\n",
      "                                   25%           50%           75%  \\\n",
      "UnderwrittenCoverID       5.514300e+04  9.408300e+04  1.391900e+05   \n",
      "PolicyID                  4.500000e+03  7.071000e+03  1.107700e+04   \n",
      "PostalCode                8.270000e+02  2.000000e+03  4.180000e+03   \n",
      "mmcode                    6.005692e+07  6.005842e+07  6.005842e+07   \n",
      "RegistrationYear          2.008000e+03  2.011000e+03  2.013000e+03   \n",
      "Cylinders                 4.000000e+00  4.000000e+00  4.000000e+00   \n",
      "cubiccapacity             2.237000e+03  2.694000e+03  2.694000e+03   \n",
      "kilowatts                 7.500000e+01  1.110000e+02  1.110000e+02   \n",
      "NumberOfDoors             4.000000e+00  4.000000e+00  4.000000e+00   \n",
      "CustomValueEstimate       1.350000e+05  2.200000e+05  2.800000e+05   \n",
      "NumberOfVehiclesInFleet            NaN           NaN           NaN   \n",
      "SumInsured                5.000000e+03  7.500000e+03  2.500000e+05   \n",
      "CalculatedPremiumPerTerm  3.224800e+00  8.436900e+00  9.000000e+01   \n",
      "TotalPremium              0.000000e+00  2.178333e+00  2.192982e+01   \n",
      "TotalClaims               0.000000e+00  0.000000e+00  0.000000e+00   \n",
      "\n",
      "                                   max  \n",
      "UnderwrittenCoverID       3.011750e+05  \n",
      "PolicyID                  2.324600e+04  \n",
      "PostalCode                9.870000e+03  \n",
      "mmcode                    6.506535e+07  \n",
      "RegistrationYear          2.015000e+03  \n",
      "Cylinders                 1.000000e+01  \n",
      "cubiccapacity             1.288000e+04  \n",
      "kilowatts                 3.090000e+02  \n",
      "NumberOfDoors             6.000000e+00  \n",
      "CustomValueEstimate       2.655000e+07  \n",
      "NumberOfVehiclesInFleet            NaN  \n",
      "SumInsured                1.263620e+07  \n",
      "CalculatedPremiumPerTerm  7.442217e+04  \n",
      "TotalPremium              6.528260e+04  \n",
      "TotalClaims               3.930921e+05  \n"
     ]
    }
   ],
   "source": [
    "print(df.describe().T) # .T transposes the output for better readability"
   ]
  },
  {
   "cell_type": "code",
   "execution_count": 12,
   "id": "e45da86d",
   "metadata": {},
   "outputs": [
    {
     "name": "stdout",
     "output_type": "stream",
     "text": [
      "                              count           mean           std  \\\n",
      "SumInsured                1000098.0  604172.732589  1.508332e+06   \n",
      "CalculatedPremiumPerTerm  1000098.0     117.875691  3.997017e+02   \n",
      "TotalPremium              1000098.0      61.905496  2.302845e+02   \n",
      "TotalClaims               1000098.0      64.861190  2.384075e+03   \n",
      "\n",
      "                                   min        25%          50%            75%  \\\n",
      "SumInsured                    0.010000  5000.0000  7500.000000  250000.000000   \n",
      "CalculatedPremiumPerTerm      0.000000     3.2248     8.436900      90.000000   \n",
      "TotalPremium               -782.576754     0.0000     2.178333      21.929825   \n",
      "TotalClaims              -12002.412281     0.0000     0.000000       0.000000   \n",
      "\n",
      "                                   max  \n",
      "SumInsured                1.263620e+07  \n",
      "CalculatedPremiumPerTerm  7.442217e+04  \n",
      "TotalPremium              6.528260e+04  \n",
      "TotalClaims               3.930921e+05  \n"
     ]
    }
   ],
   "source": [
    "print(df[['SumInsured', 'CalculatedPremiumPerTerm', 'TotalPremium', 'TotalClaims']].describe().T)"
   ]
  },
  {
   "cell_type": "markdown",
   "id": "e3cb4a55",
   "metadata": {},
   "source": [
    "### Summarize Categorical Data"
   ]
  },
  {
   "cell_type": "code",
   "execution_count": 13,
   "id": "84ce8154",
   "metadata": {},
   "outputs": [
    {
     "name": "stdout",
     "output_type": "stream",
     "text": [
      "\n",
      "Descriptive Statistics for Categorical Columns:\n",
      "                      count unique                                 top  \\\n",
      "TransactionMonth    1000098     23                 2015-08-01 00:00:00   \n",
      "Citizenship         1000098      4                                       \n",
      "LegalType           1000098      6                          Individual   \n",
      "Title               1000098      5                                  Mr   \n",
      "Language            1000098      1                             English   \n",
      "Bank                 854137     11                 First National Bank   \n",
      "AccountType          959866      3                     Current account   \n",
      "MaritalStatus        991839      3                       Not specified   \n",
      "Gender               990562      3                       Not specified   \n",
      "Country             1000098      1                        South Africa   \n",
      "Province            1000098      9                             Gauteng   \n",
      "MainCrestaZone      1000098     16     Transvaal (all except Pretoria)   \n",
      "SubCrestaZone       1000098     45                        Johannesburg   \n",
      "ItemType            1000098      1                    Mobility - Motor   \n",
      "VehicleType          999546      5                   Passenger Vehicle   \n",
      "make                 999546     46                              TOYOTA   \n",
      "Model                999546    411           QUANTUM 2.7 SESFIKILE 16s   \n",
      "bodytype             999546     13                                 B/S   \n",
      "VehicleIntroDate     999546    174                              4/2012   \n",
      "AlarmImmobiliser    1000098      2                                 Yes   \n",
      "TrackingDevice      1000098      2                                  No   \n",
      "CapitalOutstanding  1000096   1160                                   0   \n",
      "NewVehicle           846803      2                  More than 6 months   \n",
      "WrittenOff           358197      2                                  No   \n",
      "Rebuilt              358197      2                                  No   \n",
      "Converted            358197      2                                  No   \n",
      "CrossBorder             698      1                                  No   \n",
      "TermFrequency       1000098      2                             Monthly   \n",
      "ExcessSelected      1000098     13                           No excess   \n",
      "CoverCategory       1000098     28                 Passenger Liability   \n",
      "CoverType           1000098     22                          Own Damage   \n",
      "CoverGroup          1000098     14                Comprehensive - Taxi   \n",
      "Section             1000098      5                 Motor Comprehensive   \n",
      "Product             1000098      4  Mobility Commercial Cover: Monthly   \n",
      "StatutoryClass      1000098      1                          Commercial   \n",
      "StatutoryRiskType   1000098      1                       IFRS Constant   \n",
      "\n",
      "                       freq  \n",
      "TransactionMonth     106747  \n",
      "Citizenship          895210  \n",
      "LegalType            911929  \n",
      "Title                933555  \n",
      "Language            1000098  \n",
      "Bank                 260811  \n",
      "AccountType          597938  \n",
      "MaritalStatus        986208  \n",
      "Gender               940990  \n",
      "Country             1000098  \n",
      "Province             393865  \n",
      "MainCrestaZone       296187  \n",
      "SubCrestaZone        176020  \n",
      "ItemType            1000098  \n",
      "VehicleType          933598  \n",
      "make                 813280  \n",
      "Model                186087  \n",
      "bodytype             844400  \n",
      "VehicleIntroDate     287638  \n",
      "AlarmImmobiliser     999861  \n",
      "TrackingDevice       656617  \n",
      "CapitalOutstanding   441735  \n",
      "NewVehicle           845223  \n",
      "WrittenOff           358165  \n",
      "Rebuilt              358165  \n",
      "Converted            358110  \n",
      "CrossBorder             698  \n",
      "TermFrequency        999554  \n",
      "ExcessSelected       791235  \n",
      "CoverCategory        104158  \n",
      "CoverType            104183  \n",
      "CoverGroup           824124  \n",
      "Section              828125  \n",
      "Product              915028  \n",
      "StatutoryClass      1000098  \n",
      "StatutoryRiskType   1000098  \n"
     ]
    }
   ],
   "source": [
    "print(\"\\nDescriptive Statistics for Categorical Columns:\")\n",
    "print(df.describe(include='object').T)"
   ]
  },
  {
   "cell_type": "code",
   "execution_count": 14,
   "id": "89666a4e",
   "metadata": {},
   "outputs": [
    {
     "name": "stdout",
     "output_type": "stream",
     "text": [
      "\n",
      "Value counts for 'make':\n",
      "make\n",
      "TOYOTA                                 813280\n",
      "MERCEDES-BENZ                           41940\n",
      "CMC                                     21624\n",
      "VOLKSWAGEN                              20929\n",
      "C.A.M                                   16171\n",
      "GOLDEN JOURNEY                          14462\n",
      "NISSAN/DATSUN                           10997\n",
      "JINBEI                                  10374\n",
      "IVECO                                    8430\n",
      "AUDI                                     7407\n",
      "Name: count, dtype: int64\n",
      "\n",
      "Value counts for 'Country':\n",
      "Country\n",
      "South Africa    1000098\n",
      "Name: count, dtype: int64\n",
      "\n",
      "Unique values in 'VehicleType':\n",
      "['Passenger Vehicle' 'Medium Commercial' 'Heavy Commercial'\n",
      " 'Light Commercial' 'Bus' nan]\n"
     ]
    }
   ],
   "source": [
    "# Check the unique values and their frequencies for key categorical columns\n",
    "print(\"\\nValue counts for 'make':\")\n",
    "print(df['make'].value_counts().head(10)) # Top 10 most frequent makes\n",
    "\n",
    "print(\"\\nValue counts for 'Country':\")\n",
    "print(df['Country'].value_counts())\n",
    "\n",
    "print(\"\\nUnique values in 'VehicleType':\")\n",
    "print(df['VehicleType'].unique())"
   ]
  },
  {
   "cell_type": "markdown",
   "id": "aa2aa374",
   "metadata": {},
   "source": [
    "#### Calculate the Overall Loss Ratio for the Portfolio"
   ]
  },
  {
   "cell_type": "code",
   "execution_count": 18,
   "id": "86579e9b",
   "metadata": {},
   "outputs": [
    {
     "name": "stdout",
     "output_type": "stream",
     "text": [
      "Overall Loss Ratio for the portfolio: 104.77%\n"
     ]
    }
   ],
   "source": [
    "# Calculate the sum of all claims and all premiums\n",
    "total_claims = df['TotalClaims'].sum()\n",
    "total_premium = df['TotalPremium'].sum()\n",
    "\n",
    "# Calculate the overall Loss Ratio\n",
    "# Add a check to avoid division by zero if total premium is 0\n",
    "if total_premium > 0:\n",
    "    overall_loss_ratio = total_claims / total_premium\n",
    "    print(f\"Overall Loss Ratio for the portfolio: {overall_loss_ratio:.2%}\")\n",
    "else:\n",
    "    print(\"Cannot calculate overall Loss Ratio: Total Premium is zero.\")"
   ]
  },
  {
   "cell_type": "markdown",
   "id": "0deef203",
   "metadata": {},
   "source": [
    "- A loss ratio less than 100% (1.00) means the company is making a profit from underwriting.\n",
    "- A loss ratio greater than 100% (1.00) means the company is paying out more in claims than it is collecting in premiums.\n",
    "- So, 104.77% mean company is paying out more in claims than it is collecting in premiums."
   ]
  },
  {
   "cell_type": "markdown",
   "id": "bf425ca1",
   "metadata": {},
   "source": [
    "#### Loss Ratio by Province"
   ]
  },
  {
   "cell_type": "code",
   "execution_count": null,
   "id": "dbc120ad",
   "metadata": {},
   "outputs": [
    {
     "name": "stdout",
     "output_type": "stream",
     "text": [
      "\n",
      "Loss Ratio by Province (sorted by highest Loss Ratio):\n",
      "               TotalPremium   TotalClaims  LossRatio\n",
      "Province                                            \n",
      "Gauteng        2.405377e+07  2.939415e+07   1.222018\n",
      "KwaZulu-Natal  1.320908e+07  1.430138e+07   1.082693\n",
      "Western Cape   9.806559e+06  1.038977e+07   1.059472\n",
      "North West     7.490508e+06  5.920250e+06   0.790367\n",
      "Mpumalanga     2.836292e+06  2.044675e+06   0.720897\n",
      "Free State     5.213632e+05  3.549223e+05   0.680758\n",
      "Limpopo        1.537324e+06  1.016477e+06   0.661199\n",
      "Eastern Cape   2.140104e+06  1.356427e+06   0.633813\n",
      "Northern Cape  3.165581e+05  8.949051e+04   0.282699\n"
     ]
    }
   ],
   "source": [
    "# Group by Province and sum the TotalClaims and TotalPremium\n",
    "loss_ratio_by_province = df.groupby('Province')[['TotalClaims', 'TotalPremium']].sum()\n",
    "\n",
    "# Calculate the Loss Ratio for each Province\n",
    "loss_ratio_by_province['LossRatio'] = np.where(\n",
    "    loss_ratio_by_province['TotalPremium'] > 0, \n",
    "    loss_ratio_by_province['TotalClaims'] / loss_ratio_by_province['TotalPremium'], \n",
    ")\n",
    "\n",
    "# Sort the results to see the highest loss ratios first\n",
    "loss_ratio_by_province = loss_ratio_by_province.sort_values('LossRatio', ascending=False)\n",
    "\n",
    "print(\"\\nLoss Ratio by Province (sorted by highest Loss Ratio):\")\n",
    "print(loss_ratio_by_province[['TotalPremium', 'TotalClaims', 'LossRatio']])"
   ]
  },
  {
   "cell_type": "markdown",
   "id": "3d7301d9",
   "metadata": {},
   "source": [
    "- Gauteng, KwaZulu-Natal, and Western Cape are Unprofitable\n",
    "- Northern Cape is the Most Profitable"
   ]
  },
  {
   "cell_type": "markdown",
   "id": "230c9762",
   "metadata": {},
   "source": [
    "####  Loss Ratio by VehicleType"
   ]
  },
  {
   "cell_type": "code",
   "execution_count": 23,
   "id": "eeed3fb1",
   "metadata": {},
   "outputs": [
    {
     "name": "stdout",
     "output_type": "stream",
     "text": [
      "\n",
      "Loss Ratio by VehicleType (sorted by highest Premium Volume):\n",
      "                   TotalPremium   TotalClaims  LossRatio\n",
      "VehicleType                                             \n",
      "Passenger Vehicle  5.664202e+07  5.937207e+07   1.048198\n",
      "Medium Commercial  3.922746e+06  4.119867e+06   1.050251\n",
      "Heavy Commercial   4.609479e+05  7.504746e+05   1.628112\n",
      "Light Commercial   2.604975e+05  6.045250e+04   0.232066\n",
      "Bus                5.824474e+04  7.996535e+03   0.137292\n"
     ]
    }
   ],
   "source": [
    "# Group by VehicleType and sum the claims and premiums\n",
    "loss_ratio_by_vehicle_type = df.groupby('VehicleType')[['TotalClaims', 'TotalPremium']].sum()\n",
    "\n",
    "# Calculate the Loss Ratio for each VehicleType\n",
    "loss_ratio_by_vehicle_type['LossRatio'] = np.where(\n",
    "    loss_ratio_by_vehicle_type['TotalPremium'] > 0,\n",
    "    loss_ratio_by_vehicle_type['TotalClaims'] / loss_ratio_by_vehicle_type['TotalPremium'],\n",
    "    0\n",
    ")\n",
    "\n",
    "# Sort the results and filter out types with very low premium volumes if needed\n",
    "loss_ratio_by_vehicle_type = loss_ratio_by_vehicle_type.sort_values('TotalPremium', ascending=False)\n",
    "\n",
    "print(\"\\nLoss Ratio by VehicleType (sorted by highest Premium Volume):\")\n",
    "print(loss_ratio_by_vehicle_type[['TotalPremium', 'TotalClaims', 'LossRatio']])"
   ]
  },
  {
   "cell_type": "markdown",
   "id": "b347ed4f",
   "metadata": {},
   "source": [
    "- Heavy Commercial highly unprofitable\n",
    "- Medium Commercial slightly unprofitable\n",
    "- Light Commercial and Bus  are highly profitable"
   ]
  },
  {
   "cell_type": "markdown",
   "id": "6e3c1d9f",
   "metadata": {},
   "source": [
    "#### Loss Ratio by Gender"
   ]
  },
  {
   "cell_type": "code",
   "execution_count": 24,
   "id": "2f6a4505",
   "metadata": {},
   "outputs": [
    {
     "name": "stdout",
     "output_type": "stream",
     "text": [
      "\n",
      "Loss Ratio by Gender:\n",
      "               TotalPremium   TotalClaims  LossRatio\n",
      "Gender                                              \n",
      "Female         3.044806e+05  2.502461e+05   0.821879\n",
      "Male           1.580143e+06  1.396704e+06   0.883910\n",
      "Not specified  5.920275e+07  6.271410e+07   1.059311\n"
     ]
    }
   ],
   "source": [
    "# Group by Gender and sum the claims and premiums\n",
    "loss_ratio_by_gender = df.groupby('Gender')[['TotalClaims', 'TotalPremium']].sum()\n",
    "\n",
    "# Calculate the Loss Ratio for each Gender\n",
    "loss_ratio_by_gender['LossRatio'] = np.where(\n",
    "    loss_ratio_by_gender['TotalPremium'] > 0,\n",
    "    loss_ratio_by_gender['TotalClaims'] / loss_ratio_by_gender['TotalPremium'],\n",
    "    0\n",
    ")\n",
    "\n",
    "print(\"\\nLoss Ratio by Gender:\")\n",
    "print(loss_ratio_by_gender[['TotalPremium', 'TotalClaims', 'LossRatio']])"
   ]
  },
  {
   "cell_type": "markdown",
   "id": "ae442432",
   "metadata": {},
   "source": [
    "- Female and Male : Both of these categories are profitable, with premiums collected comfortably exceeding claims paid out. The Female segment appears slightly more profitable than the Male segment.\n",
    "- Not specified (1.05): This category is unprofitable, operating at a loss. For every R1 of premium collected from this segment, R1.05 is paid out in claims."
   ]
  }
 ],
 "metadata": {
  "kernelspec": {
   "display_name": "venv",
   "language": "python",
   "name": "python3"
  },
  "language_info": {
   "codemirror_mode": {
    "name": "ipython",
    "version": 3
   },
   "file_extension": ".py",
   "mimetype": "text/x-python",
   "name": "python",
   "nbconvert_exporter": "python",
   "pygments_lexer": "ipython3",
   "version": "3.13.3"
  }
 },
 "nbformat": 4,
 "nbformat_minor": 5
}
