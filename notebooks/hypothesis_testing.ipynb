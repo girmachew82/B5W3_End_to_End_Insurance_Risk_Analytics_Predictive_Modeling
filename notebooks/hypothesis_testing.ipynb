{
 "cells": [
  {
   "cell_type": "markdown",
   "id": "93a84033",
   "metadata": {},
   "source": [
    "# B5W3: End-to-End Insurance Risk Analytics & Predictive Modeling\n",
    "## Task 3\n",
    "    - A/B Hypothesis Testing"
   ]
  },
  {
   "cell_type": "code",
   "execution_count": 1,
   "id": "18dc89b4",
   "metadata": {},
   "outputs": [],
   "source": [
    "import os\n",
    "import sys\n",
    "import pandas as pd\n",
    "import matplotlib.pyplot as plt\n",
    "import seaborn as sns\n",
    "import numpy as np \n",
    "from scipy import stats\n",
    "\n",
    "sns.set_style('whitegrid')"
   ]
  },
  {
   "cell_type": "code",
   "execution_count": 2,
   "id": "4663c1e1",
   "metadata": {},
   "outputs": [],
   "source": [
    "sys.path.append(os.path.abspath(os.path.join('..')))"
   ]
  },
  {
   "cell_type": "code",
   "execution_count": 6,
   "id": "4037abc9",
   "metadata": {},
   "outputs": [],
   "source": [
    "df  = pd.read_csv('../data/MachineLearningRating_v3.csv', low_memory=False )"
   ]
  },
  {
   "cell_type": "code",
   "execution_count": 7,
   "id": "27028a78",
   "metadata": {},
   "outputs": [],
   "source": [
    "from scripts.data_converter import DataConverter"
   ]
  },
  {
   "cell_type": "code",
   "execution_count": 8,
   "id": "9cd168ed",
   "metadata": {},
   "outputs": [],
   "source": [
    "input_file_path = os.path.join('B5W3_End_to_End_Insurance_Risk_Analytics_Predictive_Modeling', 'data', 'MachineLearningRating_v3.txt')\n",
    "output_file_path = os.path.join('B5W3_End_to_End_Insurance_Risk_Analytics_Predictive_Modeling', 'data', 'MachineLearningRating_v3.csv')\n",
    "\n",
    "# Create an instance (an object) of the DataConverter class\n",
    "# This calls the __init__ method of the class, initializing the object\n",
    "file_converter = DataConverter(input_file_path, output_file_path)"
   ]
  },
  {
   "cell_type": "code",
   "execution_count": 9,
   "id": "9b78a372",
   "metadata": {},
   "outputs": [
    {
     "name": "stdout",
     "output_type": "stream",
     "text": [
      "\n",
      "--- Starting Data Type Cleaning ---\n",
      "Converting date columns...\n",
      "  - 'TransactionMonth' converted to datetime.\n",
      "  - 'VehicleIntroDate' converted to datetime.\n",
      "\n",
      "Converting numerical columns from object to float...\n"
     ]
    },
    {
     "name": "stderr",
     "output_type": "stream",
     "text": [
      "c:\\Users\\girmachew\\B5W3_End_to_End_Insurance_Risk_Analytics_Predictive_Modeling\\scripts\\data_converter.py:103: UserWarning: Could not infer format, so each element will be parsed individually, falling back to `dateutil`. To ensure parsing is consistent and as-expected, please specify a format.\n",
      "  df[col] = pd.to_datetime(df[col], errors='coerce')\n"
     ]
    },
    {
     "name": "stdout",
     "output_type": "stream",
     "text": [
      "  - 'CapitalOutstanding' converted to float.\n",
      "  - 'ExcessSelected' converted to float.\n",
      "\n",
      "Converting count/binary columns...\n",
      "  - 'Cylinders' converted to nullable integer (Int64).\n",
      "  - 'NumberOfDoors' converted to nullable integer (Int64).\n",
      "  - 'mmcode' converted to nullable integer (Int64).\n",
      "  - 'RegistrationYear' converted to nullable integer (Int64).\n",
      "  - 'PostalCode' converted to nullable integer (Int64).\n",
      "  - 'AlarmImmobiliser' converted to binary integer (Int64).\n",
      "  - 'TrackingDevice' converted to binary integer (Int64).\n",
      "  - 'NewVehicle' converted to binary integer (Int64).\n",
      "  - 'WrittenOff' converted to binary integer (Int64).\n",
      "  - 'Rebuilt' converted to binary integer (Int64).\n",
      "  - 'Converted' converted to binary integer (Int64).\n",
      "  - 'CrossBorder' converted to binary integer (Int64).\n",
      "  - 'IsVATRegistered' converted to binary integer (Int64).\n",
      "\n",
      "Converting object columns to category...\n",
      "  - 'Citizenship' converted to category.\n",
      "  - 'LegalType' converted to category.\n",
      "  - 'Title' converted to category.\n",
      "  - 'Language' converted to category.\n",
      "  - 'Bank' converted to category.\n",
      "  - 'AccountType' converted to category.\n",
      "  - 'MaritalStatus' converted to category.\n",
      "  - 'Gender' converted to category.\n",
      "  - 'Country' converted to category.\n",
      "  - 'Province' converted to category.\n",
      "  - 'MainCrestaZone' converted to category.\n",
      "  - 'SubCrestaZone' converted to category.\n",
      "  - 'ItemType' converted to category.\n",
      "  - 'VehicleType' converted to category.\n",
      "  - 'make' converted to category.\n",
      "  - 'Model' converted to category.\n",
      "  - 'bodytype' converted to category.\n",
      "  - 'CoverCategory' converted to category.\n",
      "  - 'CoverType' converted to category.\n",
      "  - 'CoverGroup' converted to category.\n",
      "  - 'Section' converted to category.\n",
      "  - 'Product' converted to category.\n",
      "  - 'StatutoryClass' converted to category.\n",
      "  - 'StatutoryRiskType' converted to category.\n",
      "  - 'TermFrequency' converted to category.\n",
      "\n",
      "Checking for and dropping columns with all null values...\n",
      "  - Dropped columns with all nulls: ['NewVehicle', 'NumberOfVehiclesInFleet', 'ExcessSelected']\n",
      "\n",
      "--- Data Type Cleaning Complete ---\n"
     ]
    }
   ],
   "source": [
    "df = file_converter.clean_data_types(df)"
   ]
  },
  {
   "cell_type": "markdown",
   "id": "e2e6bd60",
   "metadata": {},
   "source": [
    "## A/B Hypothesis Testing"
   ]
  },
  {
   "cell_type": "markdown",
   "id": "060bd677",
   "metadata": {},
   "source": [
    "### Select and create matrics"
   ]
  },
  {
   "cell_type": "code",
   "execution_count": 20,
   "id": "89c62ba2",
   "metadata": {},
   "outputs": [
    {
     "name": "stdout",
     "output_type": "stream",
     "text": [
      "Metrics 'ClaimOccurred' and 'Margin' have been created in the DataFrame.\n",
      "Number of policies with claims: 2788\n"
     ]
    }
   ],
   "source": [
    "# 1. Claim Occurred (Binary) for Claim Frequency\n",
    "# Create a new column 'ClaimOccurred' (1 if a claim was made, 0 otherwise)\n",
    "df['ClaimOccurred'] = np.where(df['TotalClaims'] > 0, 1, 0)\n",
    "\n",
    "# 2. Claim Severity (Requires filtering for claims)\n",
    "# Create a DataFrame containing only policies with claims\n",
    "claims_df = df[df['ClaimOccurred'] == 1].copy()\n",
    "\n",
    "# 3. Margin (Profit)\n",
    "df['Margin'] = df['TotalPremium'] - df['TotalClaims']\n",
    "\n",
    "print(\"Metrics 'ClaimOccurred' and 'Margin' have been created in the DataFrame.\")\n",
    "print(f\"Number of policies with claims: {claims_df.shape[0]}\")"
   ]
  },
  {
   "cell_type": "markdown",
   "id": "54a1f5f9",
   "metadata": {},
   "source": [
    "#### Statistical Testing & Analysis"
   ]
  },
  {
   "cell_type": "markdown",
   "id": "e9223f19",
   "metadata": {},
   "source": [
    "#### Hypothesis 1: H0 There are no risk differences across provinces"
   ]
  },
  {
   "cell_type": "markdown",
   "id": "e91a36c8",
   "metadata": {},
   "source": [
    "A. Claim Frequency by Province (Categorical Data)"
   ]
  },
  {
   "cell_type": "markdown",
   "id": "5b9dd7bf",
   "metadata": {},
   "source": [
    "- Test: Chi-squared Test of Independence. This is used to compare proportions across multiple groups.\n",
    "\n",
    "- Analysis: We'll check if the proportion of policies with claims is independent of the province."
   ]
  },
  {
   "cell_type": "code",
   "execution_count": 21,
   "id": "ebc061ac",
   "metadata": {},
   "outputs": [
    {
     "name": "stdout",
     "output_type": "stream",
     "text": [
      "Claim Frequency by Province:\n",
      "Chi-squared statistic: 104.19\n",
      "P-value: 0.0000\n",
      "Conclusion: Reject the Null Hypothesis. There is a statistically significant difference in Claim Frequency across provinces.\n"
     ]
    }
   ],
   "source": [
    "# Create a contingency table of ClaimOccurred vs. Province\n",
    "contingency_table = pd.crosstab(df['Province'], df['ClaimOccurred'])\n",
    "\n",
    "# Conduct the Chi-squared test\n",
    "chi2, p_value_freq_province, dof, expected = stats.chi2_contingency(contingency_table)\n",
    "\n",
    "print(f\"Claim Frequency by Province:\")\n",
    "print(f\"Chi-squared statistic: {chi2:.2f}\")\n",
    "print(f\"P-value: {p_value_freq_province:.4f}\")\n",
    "\n",
    "# Analyze the p-value\n",
    "if p_value_freq_province < 0.05:\n",
    "    print(\"Conclusion: Reject the Null Hypothesis. There is a statistically significant difference in Claim Frequency across provinces.\")\n",
    "else:\n",
    "    print(\"Conclusion: Fail to reject the Null Hypothesis. Claim Frequency does not significantly differ by province.\")"
   ]
  },
  {
   "cell_type": "markdown",
   "id": "69043528",
   "metadata": {},
   "source": [
    "#### B. Claim Severity by Province (Numerical Data)\n",
    "    - Test: ANOVA (Analysis of Variance). This is used to compare the means of a numerical variable across three or more groups.\n",
    "    - Analysis: We'll check if the average claim amount is the same across all provinces."
   ]
  },
  {
   "cell_type": "code",
   "execution_count": 22,
   "id": "5c44ebc9",
   "metadata": {},
   "outputs": [
    {
     "name": "stdout",
     "output_type": "stream",
     "text": [
      "\n",
      "Claim Severity by Province:\n",
      "F-statistic: 4.83\n",
      "P-value: 0.0000\n",
      "Conclusion: Reject the Null Hypothesis. There is a statistically significant difference in Claim Severity across provinces.\n"
     ]
    },
    {
     "name": "stderr",
     "output_type": "stream",
     "text": [
      "C:\\Users\\girmachew\\AppData\\Local\\Temp\\ipykernel_6056\\1344671490.py:2: FutureWarning: The default of observed=False is deprecated and will be changed to True in a future version of pandas. Pass observed=False to retain current behavior or observed=True to adopt the future default and silence this warning.\n",
      "  claim_severities_by_province = [group['TotalClaims'] for name, group in claims_df.groupby('Province')]\n"
     ]
    }
   ],
   "source": [
    "# Create a list of claim amounts for each province\n",
    "claim_severities_by_province = [group['TotalClaims'] for name, group in claims_df.groupby('Province')]\n",
    "\n",
    "# Conduct the ANOVA test\n",
    "f_stat_severity_province, p_value_severity_province = stats.f_oneway(*claim_severities_by_province)\n",
    "\n",
    "print(f\"\\nClaim Severity by Province:\")\n",
    "print(f\"F-statistic: {f_stat_severity_province:.2f}\")\n",
    "print(f\"P-value: {p_value_severity_province:.4f}\")\n",
    "\n",
    "# Analyze the p-value\n",
    "if p_value_severity_province < 0.05:\n",
    "    print(\"Conclusion: Reject the Null Hypothesis. There is a statistically significant difference in Claim Severity across provinces.\")\n",
    "else:\n",
    "    print(\"Conclusion: Fail to reject the Null Hypothesis. Claim Severity does not significantly differ by province.\")"
   ]
  },
  {
   "cell_type": "markdown",
   "id": "ef78ef08",
   "metadata": {},
   "source": [
    "#### Hypothesis 2: H0: There are no risk differences between zip codes"
   ]
  },
  {
   "cell_type": "markdown",
   "id": "ebb6eea1",
   "metadata": {},
   "source": [
    "#### A . Claim Frequency by Zip Code (Categorical Data)\n",
    "    - Test: Chi-squared Test of Independence.\n",
    "    - Analysis: Compare the proportion of claims between the two chosen zip codes.\n",
    "\n"
   ]
  },
  {
   "cell_type": "code",
   "execution_count": null,
   "id": "ee57b507",
   "metadata": {},
   "outputs": [
    {
     "name": "stdout",
     "output_type": "stream",
     "text": [
      "ClaimOccurred    0\n",
      "PostalCode        \n",
      "1459           622\n",
      "1513            81\n",
      "\n",
      "Claim Frequency between Zip Codes 1459 and 1513:\n",
      "Chi-squared statistic: 0.00\n",
      "P-value: 1.0000\n",
      "Conclusion: Fail to reject the Null Hypothesis. Claim Frequency does not significantly differ between 1459 and 1513.\n"
     ]
    }
   ],
   "source": [
    "# Select the two zip codes for A/B testing\n",
    "zip_A = df['PostalCode'][10]\n",
    "zip_B = df['PostalCode'][120]\n",
    "\n",
    "# Create a contingency table for the two zip codes\n",
    "zip_subset = df[df['PostalCode'].isin([zip_A, zip_B])]\n",
    "contingency_table_zip = pd.crosstab(zip_subset['PostalCode'], zip_subset['ClaimOccurred'])\n",
    "# Conduct the Chi-squared test\n",
    "chi2_zip_freq, p_value_zip_freq, dof_zip, expected_zip = stats.chi2_contingency(contingency_table_zip)\n",
    "\n",
    "print(f\"\\nClaim Frequency between Zip Codes {zip_A} and {zip_B}:\")\n",
    "print(f\"Chi-squared statistic: {chi2_zip_freq:.2f}\")\n",
    "print(f\"P-value: {p_value_zip_freq:.4f}\")\n",
    "\n",
    "if p_value_zip_freq < 0.05:\n",
    "    print(f\"Conclusion: Reject the Null Hypothesis. There is a significant difference in Claim Frequency between {zip_A} and {zip_B}.\")\n",
    "else:\n",
    "    print(f\"Conclusion: Fail to reject the Null Hypothesis. Claim Frequency does not significantly differ between {zip_A} and {zip_B}.\")"
   ]
  },
  {
   "cell_type": "markdown",
   "id": "c7b0877c",
   "metadata": {},
   "source": [
    "#### B. Claim Severity by Zip Code (Numerical Data)\n",
    "    - Test: Independent Samples t-test.\n",
    "    - Analysis: Compare the average claim amount between the two zip codes."
   ]
  },
  {
   "cell_type": "code",
   "execution_count": 28,
   "id": "1f51d0dc",
   "metadata": {},
   "outputs": [
    {
     "name": "stdout",
     "output_type": "stream",
     "text": [
      "\n",
      "Claim Severity between Zip Codes 1459 and 1513:\n",
      "T-statistic: nan\n",
      "P-value: nan\n",
      "Conclusion: Fail to reject the Null Hypothesis. Claim Severity does not significantly differ between 1459 and 1513.\n"
     ]
    },
    {
     "name": "stderr",
     "output_type": "stream",
     "text": [
      "c:\\Users\\girmachew\\B5W3_End_to_End_Insurance_Risk_Analytics_Predictive_Modeling\\venv\\Lib\\site-packages\\scipy\\_lib\\deprecation.py:234: SmallSampleWarning: One or more sample arguments is too small; all returned values will be NaN. See documentation for sample size requirements.\n",
      "  return f(*args, **kwargs)\n"
     ]
    }
   ],
   "source": [
    "# Get claim amounts for the two zip codes, only for policies with claims\n",
    "claims_zip_A = claims_df[claims_df['PostalCode'] == zip_A]['TotalClaims']\n",
    "claims_zip_B = claims_df[claims_df['PostalCode'] == zip_B]['TotalClaims']\n",
    "\n",
    "# Conduct the t-test\n",
    "t_stat_zip_severity, p_value_zip_severity = stats.ttest_ind(claims_zip_A, claims_zip_B, equal_var=False, nan_policy='omit')\n",
    "\n",
    "print(f\"\\nClaim Severity between Zip Codes {zip_A} and {zip_B}:\")\n",
    "print(f\"T-statistic: {t_stat_zip_severity:.2f}\")\n",
    "print(f\"P-value: {p_value_zip_severity:.4f}\")\n",
    "\n",
    "if p_value_zip_severity < 0.05:\n",
    "    print(f\"Conclusion: Reject the Null Hypothesis. There is a significant difference in Claim Severity between {zip_A} and {zip_B}.\")\n",
    "else:\n",
    "    print(f\"Conclusion: Fail to reject the Null Hypothesis. Claim Severity does not significantly differ between {zip_A} and {zip_B}.\")"
   ]
  },
  {
   "cell_type": "markdown",
   "id": "eacc31e5",
   "metadata": {},
   "source": [
    "#### Hypothesis 3: H0: There are no significant margin (profit) difference between zip codes\n",
    "- Test: Independent Samples t-test.\n",
    "- Analysis: Compare the average margin between the same two zip codes."
   ]
  },
  {
   "cell_type": "code",
   "execution_count": 25,
   "id": "0417f766",
   "metadata": {},
   "outputs": [
    {
     "name": "stdout",
     "output_type": "stream",
     "text": [
      "\n",
      "Margin between Zip Codes 1459 and 1513:\n",
      "T-statistic: -0.44\n",
      "P-value: 0.6630\n",
      "Conclusion: Fail to reject the Null Hypothesis. Margin does not significantly differ between 1459 and 1513.\n"
     ]
    }
   ],
   "source": [
    "# Get margin data for the two zip codes\n",
    "margin_zip_A = df[df['PostalCode'] == zip_A]['Margin']\n",
    "margin_zip_B = df[df['PostalCode'] == zip_B]['Margin']\n",
    "\n",
    "# Conduct the t-test\n",
    "t_stat_zip_margin, p_value_zip_margin = stats.ttest_ind(margin_zip_A, margin_zip_B, equal_var=False, nan_policy='omit')\n",
    "\n",
    "print(f\"\\nMargin between Zip Codes {zip_A} and {zip_B}:\")\n",
    "print(f\"T-statistic: {t_stat_zip_margin:.2f}\")\n",
    "print(f\"P-value: {p_value_zip_margin:.4f}\")\n",
    "\n",
    "if p_value_zip_margin < 0.05:\n",
    "    print(f\"Conclusion: Reject the Null Hypothesis. There is a significant difference in Margin between {zip_A} and {zip_B}.\")\n",
    "else:\n",
    "    print(f\"Conclusion: Fail to reject the Null Hypothesis. Margin does not significantly differ between {zip_A} and {zip_B}.\")"
   ]
  },
  {
   "cell_type": "markdown",
   "id": "b9b3774e",
   "metadata": {},
   "source": [
    "#### Hypothesis 4: H0: There are not significant risk difference between Women and Men\n",
    "- Note: We will only compare Male and Female categories and exclude 'Not specified' to ensure a clean A/B test.\n",
    "- A. Claim Frequency between Genders (Categorical Data)\n",
    "    - Test: Chi-squared Test of Independence.\n",
    "    - Analysis: Compare the proportion of claims between male and female policyholders."
   ]
  },
  {
   "cell_type": "code",
   "execution_count": 26,
   "id": "da60c252",
   "metadata": {},
   "outputs": [
    {
     "name": "stdout",
     "output_type": "stream",
     "text": [
      "\n",
      "Claim Frequency between Men and Women:\n",
      "Chi-squared statistic: 0.00\n",
      "P-value: 0.9515\n",
      "Conclusion: Fail to reject the Null Hypothesis. Claim Frequency does not significantly differ between Men and Women.\n"
     ]
    }
   ],
   "source": [
    "# Filter data for Male and Female only\n",
    "gender_subset = df[df['Gender'].isin(['Male', 'Female'])]\n",
    "\n",
    "# Create a contingency table\n",
    "contingency_table_gender = pd.crosstab(gender_subset['Gender'], gender_subset['ClaimOccurred'])\n",
    "\n",
    "# Conduct the Chi-squared test\n",
    "chi2_gender_freq, p_value_gender_freq, dof_gender, expected_gender = stats.chi2_contingency(contingency_table_gender)\n",
    "\n",
    "print(f\"\\nClaim Frequency between Men and Women:\")\n",
    "print(f\"Chi-squared statistic: {chi2_gender_freq:.2f}\")\n",
    "print(f\"P-value: {p_value_gender_freq:.4f}\")\n",
    "\n",
    "if p_value_gender_freq < 0.05:\n",
    "    print(\"Conclusion: Reject the Null Hypothesis. There is a significant difference in Claim Frequency between Men and Women.\")\n",
    "else:\n",
    "    print(\"Conclusion: Fail to reject the Null Hypothesis. Claim Frequency does not significantly differ between Men and Women.\")"
   ]
  },
  {
   "cell_type": "markdown",
   "id": "4d198ab8",
   "metadata": {},
   "source": [
    "#### B. Claim Severity between Genders (Numerical Data)\n",
    "    - Test: Independent Samples t-test.\n",
    "    - Analysis: Compare the average claim amount between male and female policyholders."
   ]
  },
  {
   "cell_type": "code",
   "execution_count": 27,
   "id": "5fca2c2d",
   "metadata": {},
   "outputs": [
    {
     "name": "stdout",
     "output_type": "stream",
     "text": [
      "\n",
      "Claim Severity between Men and Women:\n",
      "T-statistic: -0.58\n",
      "P-value: 0.5680\n",
      "Conclusion: Fail to reject the Null Hypothesis. Claim Severity does not significantly differ between Men and Women.\n"
     ]
    }
   ],
   "source": [
    "# Get claim amounts for Male and Female, only for policies with claims\n",
    "claims_gender_subset = claims_df[claims_df['Gender'].isin(['Male', 'Female'])]\n",
    "claims_male = claims_gender_subset[claims_gender_subset['Gender'] == 'Male']['TotalClaims']\n",
    "claims_female = claims_gender_subset[claims_gender_subset['Gender'] == 'Female']['TotalClaims']\n",
    "\n",
    "# Conduct the t-test\n",
    "t_stat_gender_severity, p_value_gender_severity = stats.ttest_ind(claims_male, claims_female, equal_var=False, nan_policy='omit')\n",
    "\n",
    "print(f\"\\nClaim Severity between Men and Women:\")\n",
    "print(f\"T-statistic: {t_stat_gender_severity:.2f}\")\n",
    "print(f\"P-value: {p_value_gender_severity:.4f}\")\n",
    "\n",
    "if p_value_gender_severity < 0.05:\n",
    "    print(\"Conclusion: Reject the Null Hypothesis. There is a significant difference in Claim Severity between Men and Women.\")\n",
    "else:\n",
    "    print(\"Conclusion: Fail to reject the Null Hypothesis. Claim Severity does not significantly differ between Men and Women.\")"
   ]
  }
 ],
 "metadata": {
  "kernelspec": {
   "display_name": "venv",
   "language": "python",
   "name": "python3"
  },
  "language_info": {
   "codemirror_mode": {
    "name": "ipython",
    "version": 3
   },
   "file_extension": ".py",
   "mimetype": "text/x-python",
   "name": "python",
   "nbconvert_exporter": "python",
   "pygments_lexer": "ipython3",
   "version": "3.13.3"
  }
 },
 "nbformat": 4,
 "nbformat_minor": 5
}
